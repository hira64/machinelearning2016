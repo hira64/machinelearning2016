{
 "cells": [
  {
   "cell_type": "markdown",
   "metadata": {
    "raw_mimetype": "text/markdown"
   },
   "source": [
    "# Lab Assignment 2\n",
    "\n",
    "In the third assignment you will classify hand-written digits using logistic regression.\n",
    "\n",
    "The assignment follows Andrew Ng's explanation of Logistic Regression and (re)watching his videos could be useful (Week 3)\n",
    "\n",
    "Publish your notebook (ipynb file) to your Machine Learning () repository on Github.\n",
    "\n",
    "### Deadline October 26th, 23:59\n",
    "\n",
    "Do not hand in any other files, the Notebook should contain all your answers."
   ]
  },
  {
   "cell_type": "code",
   "execution_count": 1,
   "metadata": {
    "collapsed": false
   },
   "outputs": [
    {
     "name": "stdout",
     "output_type": "stream",
     "text": [
      "Populating the interactive namespace from numpy and matplotlib\n"
     ]
    }
   ],
   "source": [
    "%pylab inline"
   ]
  },
  {
   "cell_type": "markdown",
   "metadata": {},
   "source": [
    "Scikit-learn has the dataset built in. The dataset contains images of hand-written digits that are only 8 by 8 pixels, which means the algorithm (logistic regression) should run on every computer.\n",
    "\n",
    "The code in the following cell shows how to work with the digits dataset and  how to visualize it. As you can see the numbers are not very clear in 8x8 pixels images, this means we cannot expect our logistic regression will have a very high classification score."
   ]
  },
  {
   "cell_type": "code",
   "execution_count": 2,
   "metadata": {
    "collapsed": false
   },
   "outputs": [
    {
     "name": "stdout",
     "output_type": "stream",
     "text": [
      "The numbers shown are: \n",
      "[[0 1 2 3 4]\n",
      " [5 6 7 8 9]]\n"
     ]
    },
    {
     "data": {
      "image/png": "[encoded data removed]",
      "text/plain": [
       "<matplotlib.figure.Figure at 0x87005c0>"
      ]
     },
     "metadata": {},
     "output_type": "display_data"
    }
   ],
   "source": [
    "from sklearn.datasets import load_digits\n",
    "\n",
    "digits = load_digits(n_class=10)\n",
    "\n",
    "#Create two rows with numbers\n",
    "firstrow = np.hstack(digits.images[:5,:,:])\n",
    "secondrow = np.hstack(digits.images[5:10,:,:])\n",
    "\n",
    "plt.gray()\n",
    "plt.axis('off')\n",
    "\n",
    "#Show both rows at the same time\n",
    "plt.imshow(np.vstack((firstrow,secondrow)), interpolation=\"nearest\")\n",
    "\n",
    "print \"The numbers shown are: \\n\", np.vstack((digits.target[:5], digits.target[5:10]))"
   ]
  },
  {
   "cell_type": "markdown",
   "metadata": {},
   "source": [
    "## The implementation\n",
    "\n",
    "You have to implement the next three functions and fill in the body of the loop in order to create a correct implementation of logistic regression. Don't change the definitions of the functions and input parameters.\n",
    "\n",
    "Make sure that you do not overfit by keeping track of the score on the test set and implementing a correct stop condition. Also pick a learning rate alpha that makes sure the algorithm learns in a smooth and stable manner.\n",
    "\n",
    "Plot how your score on the test set improves over time. My best score was about 85% correct!\n",
    "\n",
    "Make sure to comment your code."
   ]
  },
  {
   "cell_type": "code",
   "execution_count": 3,
   "metadata": {
    "collapsed": false
   },
   "outputs": [],
   "source": [
    "#Make a prediction function h\n",
    "def prediction_function(x,theta):\n",
    "    \"\"\"Computes the hypothesis for every x and theta.\n",
    "    x  = array of dimensions (64,1)\n",
    "    theta = array of dimensions (64, 10)\n",
    "    output = array of (10,1)\n",
    "    \"\"\"\n",
    "    return np.divide(1, np.add(1, np.exp(np.multiply(-1, np.dot(x, theta)))))    "
   ]
  },
  {
   "cell_type": "code",
   "execution_count": 4,
   "metadata": {
    "collapsed": false
   },
   "outputs": [],
   "source": [
    "#Use the output of that function to compute the cost function J:\n",
    "def cost_function(x_predict,y):        \n",
    "    \"\"\"Computes the cost function for a certain hypothesis.\n",
    "    x_predict : array of dimensions (10,1)\n",
    "    y         : number\n",
    "    output    : number\"\"\"\n",
    "    return ((x_predict.argmax() - y) ** 2)/2"
   ]
  },
  {
   "cell_type": "code",
   "execution_count": 5,
   "metadata": {
    "collapsed": false
   },
   "outputs": [],
   "source": [
    "#Create a function that returns the gradient values, given h (x_predict), y and x:\n",
    "def compute_gradient(x_predict, y, x):\n",
    "    \"\"\"For every x and y combination it computes the derivative relative to both theta0 and theta1.\n",
    "    x_predict  : array (10,1)\n",
    "    x          : array (1,64)\n",
    "    y          : array (10,1)\n",
    "    output     : array (10,64)\n",
    "    \"\"\"\n",
    "    x = np.copy(x)\n",
    "    m = x_predict.shape[0]\n",
    "    gradient = np.outer((x_predict - y), x)\n",
    "    return gradient"
   ]
  },
  {
   "cell_type": "code",
   "execution_count": 7,
   "metadata": {
    "collapsed": false
   },
   "outputs": [
    {
     "name": "stdout",
     "output_type": "stream",
     "text": [
      "start\n"
     ]
    },
    {
     "name": "stderr",
     "output_type": "stream",
     "text": [
      "D:\\Anaconda2\\lib\\site-packages\\ipykernel\\__main__.py:8: RuntimeWarning: overflow encountered in exp\n"
     ]
    },
    {
     "data": {
      "image/png": "[encoded data removed]",
      "text/plain": [
       "<matplotlib.figure.Figure at 0x69cf358>"
      ]
     },
     "metadata": {},
     "output_type": "display_data"
    },
    {
     "name": "stdout",
     "output_type": "stream",
     "text": [
      "training done\n",
      "accuracy training set: "
     ]
    },
    {
     "ename": "NameError",
     "evalue": "name 'x' is not defined",
     "output_type": "error",
     "traceback": [
      "\u001b[1;31m---------------------------------------------------------------------------\u001b[0m",
      "\u001b[1;31mNameError\u001b[0m                                 Traceback (most recent call last)",
      "\u001b[1;32m<ipython-input-7-e021f59e3fbd>\u001b[0m in \u001b[0;36m<module>\u001b[1;34m()\u001b[0m\n\u001b[0;32m     59\u001b[0m \u001b[0maccuracy\u001b[0m \u001b[1;33m=\u001b[0m \u001b[0mprediction_test\u001b[0m\u001b[1;33m(\u001b[0m\u001b[0mx_test\u001b[0m\u001b[1;33m,\u001b[0m \u001b[0mtarget_test\u001b[0m\u001b[1;33m,\u001b[0m \u001b[0mtraining\u001b[0m\u001b[1;33m)\u001b[0m\u001b[1;33m\u001b[0m\u001b[0m\n\u001b[0;32m     60\u001b[0m \u001b[0maccuracy_2\u001b[0m \u001b[1;33m=\u001b[0m \u001b[0mprediction_test\u001b[0m\u001b[1;33m(\u001b[0m\u001b[0mx_cross_validation\u001b[0m\u001b[1;33m,\u001b[0m \u001b[0mtarget_cross_validation\u001b[0m\u001b[1;33m,\u001b[0m \u001b[0mtraining\u001b[0m\u001b[1;33m)\u001b[0m\u001b[1;33m\u001b[0m\u001b[0m\n\u001b[1;32m---> 61\u001b[1;33m \u001b[1;32mprint\u001b[0m \u001b[1;34m\"accuracy training set: \"\u001b[0m\u001b[1;33m,\u001b[0m \u001b[0mprediction_test\u001b[0m\u001b[1;33m(\u001b[0m\u001b[0mx\u001b[0m\u001b[1;33m,\u001b[0m \u001b[0mtarget\u001b[0m\u001b[1;33m,\u001b[0m \u001b[0mtraining\u001b[0m\u001b[1;33m)\u001b[0m\u001b[1;33m\u001b[0m\u001b[0m\n\u001b[0m\u001b[0;32m     62\u001b[0m \u001b[1;32mprint\u001b[0m \u001b[1;34m\"accuracy test set: \"\u001b[0m\u001b[1;33m,\u001b[0m \u001b[0maccuracy\u001b[0m\u001b[1;33m\u001b[0m\u001b[0m\n\u001b[0;32m     63\u001b[0m \u001b[1;32mprint\u001b[0m \u001b[1;34m\"accuracy cross validation set: \"\u001b[0m\u001b[1;33m,\u001b[0m \u001b[0maccuracy_2\u001b[0m\u001b[1;33m\u001b[0m\u001b[0m\n",
      "\u001b[1;31mNameError\u001b[0m: name 'x' is not defined"
     ]
    }
   ],
   "source": [
    "#Choose a suitable learning rate\n",
    "alpha = 0.1 # learning rate\n",
    "iterations = 2500 # Experiments show this is the amount of iterations after which the cost converges.\n",
    "theta = np.zeros((64,10))\n",
    "stop_condition = 0.2 # Stop when the cost_function result is smaller than this value\n",
    "\n",
    "#It is important to check that you're not overfitting by testing your prediction on a testset\n",
    "x_train = np.reshape(digits.images[:1000],(1000,64))\n",
    "x_cross_validation = np.reshape(digits.images[1000:1500], (500,64))\n",
    "x_test = np.reshape(digits.images[1500:],(297,64))\n",
    "\n",
    "target_train = digits.target[:1000]\n",
    "target_cross_validation = digits.target[1000:1500]\n",
    "target_test = digits.target[1500:]\n",
    "\n",
    "\n",
    "def training_function(x, target, x_cv, target_cv, theta):\n",
    "    \"\"\"Takes a training set with a corresponding target set and theta.\n",
    "    It outputs the theta that gives the best hypothesis.\"\"\"\n",
    "    theta = theta\n",
    "    m = x.shape[0]\n",
    "    cost_plot = []\n",
    "    for i in range(iterations):\n",
    "        cost_counter = 0\n",
    "        for j in range(x.shape[0]):\n",
    "            x_current = x[j,:]\n",
    "            x_predict = prediction_function(x_current.T,theta)\n",
    "            y = np.zeros(10)\n",
    "            y[target[j]] = 1\n",
    "            theta = np.add(theta, np.multiply(-alpha, compute_gradient(x_predict, y, x_current).T)) \n",
    "        for k in range(x_cv.shape[0]):\n",
    "            # Use the cross validation set to stop overfitting.\n",
    "            cost_counter = cost_counter + cost_function(prediction_function(x_cv[k,:], theta), target_cv[k])\n",
    "        cost = (float(cost_counter) / m) \n",
    "        cost_plot.append(cost)\n",
    "        if cost < stop_condition:\n",
    "            plt.plot(cost_plot, range(i))\n",
    "            print \"iteration: \", i\n",
    "            break\n",
    "    plt.plot(range(iterations), cost_plot)\n",
    "    plt.show()\n",
    "    return theta\n",
    "    \n",
    "    \n",
    "def prediction_test(x, target, theta):\n",
    "    \"\"\"Takes a set x and predicts the corresponding values y, using\n",
    "    the hypothesis created with theta. Counts the good predictions and\n",
    "    returns an accuracy percentage.\"\"\"\n",
    "    good_predictions = 0\n",
    "    for i in range(x.shape[0]):\n",
    "        x_predict = prediction_function(x[i,:].T, theta)\n",
    "        if x_predict.argmax() == target[i]:\n",
    "            good_predictions += 1\n",
    "    return float(good_predictions) / x.shape[0] * 100\n",
    "\n",
    "print \"start\"\n",
    "training = training_function(x_train, target_train, x_cross_validation, target_cross_validation, theta)\n",
    "print \"training done\"\n",
    "accuracy = prediction_test(x_test, target_test, training)\n",
    "accuracy_2 = prediction_test(x_cross_validation, target_cross_validation, training)\n",
    "print \"accuracy training set: \", prediction_test(x, target, training)\n",
    "print \"accuracy test set: \", accuracy\n",
    "print \"accuracy cross validation set: \", accuracy_2"
   ]
  },
  {
   "cell_type": "markdown",
   "metadata": {
    "collapsed": false
   },
   "source": []
  },
  {
   "cell_type": "code",
   "execution_count": null,
   "metadata": {
    "collapsed": true
   },
   "outputs": [],
   "source": []
  }
 ],
 "metadata": {
  "anaconda-cloud": {},
  "celltoolbar": "Raw Cell Format",
  "kernelspec": {
   "display_name": "Python [Root]",
   "language": "python",
   "name": "Python [Root]"
  },
  "language_info": {
   "codemirror_mode": {
    "name": "ipython",
    "version": 2
   },
   "file_extension": ".py",
   "mimetype": "text/x-python",
   "name": "python",
   "nbconvert_exporter": "python",
   "pygments_lexer": "ipython2",
   "version": "2.7.12"
  }
 },
 "nbformat": 4,
 "nbformat_minor": 0
}
